{
 "metadata": {
  "name": ""
 },
 "nbformat": 3,
 "nbformat_minor": 0,
 "worksheets": [
  {
   "cells": [
    {
     "cell_type": "code",
     "collapsed": false,
     "input": [
      "import pandas as pd\n",
      "articles = pd.read_csv('2010_ny_1000_clean.csv')\n",
      "articles.count()"
     ],
     "language": "python",
     "metadata": {},
     "outputs": [
      {
       "metadata": {},
       "output_type": "pyout",
       "prompt_number": 1,
       "text": [
        "web_url             1000\n",
        "snippet              996\n",
        "lead_paragraph       987\n",
        "abstract             523\n",
        "print_page           728\n",
        "blog                1000\n",
        "source               957\n",
        "multimedia          1000\n",
        "headline            1000\n",
        "keywords            1000\n",
        "pub_date            1000\n",
        "document_type       1000\n",
        "news_desk            838\n",
        "section_name         945\n",
        "subsection_name        2\n",
        "byline               651\n",
        "type_of_material     955\n",
        "_id                 1000\n",
        "word_count           997\n",
        "dtype: int64"
       ]
      }
     ],
     "prompt_number": 1
    },
    {
     "cell_type": "code",
     "collapsed": false,
     "input": [
      "deduped = articles.drop_duplicates(cols='headline')"
     ],
     "language": "python",
     "metadata": {},
     "outputs": [],
     "prompt_number": 26
    },
    {
     "cell_type": "code",
     "collapsed": false,
     "input": [
      "deduped.count() #167 dupes!"
     ],
     "language": "python",
     "metadata": {},
     "outputs": [
      {
       "metadata": {},
       "output_type": "pyout",
       "prompt_number": 27,
       "text": [
        "web_url             833\n",
        "snippet             829\n",
        "lead_paragraph      827\n",
        "abstract            461\n",
        "print_page          591\n",
        "blog                833\n",
        "source              790\n",
        "multimedia          833\n",
        "headline            833\n",
        "keywords            833\n",
        "pub_date            833\n",
        "document_type       833\n",
        "news_desk           680\n",
        "section_name        779\n",
        "subsection_name       2\n",
        "byline              564\n",
        "type_of_material    790\n",
        "_id                 833\n",
        "word_count          830\n",
        "dtype: int64"
       ]
      }
     ],
     "prompt_number": 27
    },
    {
     "cell_type": "code",
     "collapsed": false,
     "input": [
      "text_columns = deduped[['lead_paragraph','headline']]\n",
      "text_columns = text_columns.dropna()\n",
      "print(text_columns.count()) #6 NA's\n",
      "\n",
      "\n",
      "s = text_columns['headline']\n",
      "s.head()\n"
     ],
     "language": "python",
     "metadata": {},
     "outputs": [
      {
       "output_type": "stream",
       "stream": "stdout",
       "text": [
        "lead_paragraph    827\n",
        "headline          827\n",
        "dtype: int64\n"
       ]
      },
      {
       "metadata": {},
       "output_type": "pyout",
       "prompt_number": 43,
       "text": [
        "0             Pearce Is Critically Injured On Halfpipe\n",
        "1                                      What's On Today\n",
        "2    Celebrations in Times Square Despite Troubled ...\n",
        "3                 A Variety of Stories On Many Screens\n",
        "5                   Paid Notice: Deaths  DEIN, GITTIE \n",
        "Name: headline, dtype: object"
       ]
      }
     ],
     "prompt_number": 43
    },
    {
     "cell_type": "code",
     "collapsed": false,
     "input": [
      "ctr = 0\n",
      "for counter in range(len(s)):\n",
      "    try:\n",
      "        if len(s[counter]) < 20:\n",
      "            ctr += 1\n",
      "            s[counter] = None\n",
      "    except Exception, e:\n",
      "        1\n",
      "\n",
      "print \"you nulled this many short headlines:\"\n",
      "print ctr\n",
      "s.count()"
     ],
     "language": "python",
     "metadata": {},
     "outputs": [
      {
       "output_type": "stream",
       "stream": "stdout",
       "text": [
        "you nulled this many short headlines:\n",
        "79\n"
       ]
      },
      {
       "metadata": {},
       "output_type": "pyout",
       "prompt_number": 50,
       "text": [
        "748"
       ]
      }
     ],
     "prompt_number": 50
    },
    {
     "cell_type": "code",
     "collapsed": false,
     "input": [
      "s.head(90)\n",
      "#text_columns['headline'] = s"
     ],
     "language": "python",
     "metadata": {},
     "outputs": [
      {
       "metadata": {},
       "output_type": "pyout",
       "prompt_number": 60,
       "text": [
        "0              Pearce Is Critically Injured On Halfpipe\n",
        "1                                                  None\n",
        "2     Celebrations in Times Square Despite Troubled ...\n",
        "3                  A Variety of Stories On Many Screens\n",
        "5                    Paid Notice: Deaths  DEIN, GITTIE \n",
        "6                  Absent From School? Frost Kept Track\n",
        "7                                                  None\n",
        "8             Experimental Artists, Introspective Plays\n",
        "9                   A $10.6. Billion Year For Hollywood\n",
        "13                              The U.N. in Afghanistan\n",
        "14             China: Xinjiang Enacts a Curb On Dissent\n",
        "15    Once, Twice, Three Times a Mayor. I Love You, ...\n",
        "16                      Paid Notice: Deaths  BERG, IAN \n",
        "17                    Paid Notice: Deaths  COHEN, ALAN \n",
        "18                       Time, the Infinite Storyteller\n",
        "...\n",
        "90                                Stuffed Collard Greens\n",
        "91              New Campaign Urges Flu Shots at Colleges\n",
        "92          Pioneer Editor to Lead New Magazine in China\n",
        "93                  With Bradley Out, Cubs Bring In Byrd\n",
        "94     Asia Free-Trade Zone Raises Hopes, and Some Fe...\n",
        "95     Ohio State's Pryor and Oregon's Offense: A Per...\n",
        "96                                                  None\n",
        "97       CHARGES VOIDED FOR CONTRACTORS IN IRAQ KILLINGS\n",
        "98           The Time Is Now to Enact Health Care Reform\n",
        "99     Malaysia: Judge Allows Christian Use of Word A...\n",
        "100    A Band Has Its Contemporary Way With Old-Time ...\n",
        "102                         Holyfield to Fight in Africa\n",
        "103                                                 None\n",
        "104                                                 None\n",
        "105    The Pulse: The Coaching Market for a Bulls Vac...\n",
        "Name: headline, Length: 90, dtype: object"
       ]
      }
     ],
     "prompt_number": 60
    },
    {
     "cell_type": "code",
     "collapsed": false,
     "input": [
      "#text_columns.head(30)"
     ],
     "language": "python",
     "metadata": {},
     "outputs": [],
     "prompt_number": 55
    },
    {
     "cell_type": "code",
     "collapsed": false,
     "input": [
      "culled = text_columns.dropna()\n",
      "culled.count()"
     ],
     "language": "python",
     "metadata": {},
     "outputs": [
      {
       "metadata": {},
       "output_type": "pyout",
       "prompt_number": 63,
       "text": [
        "lead_paragraph    748\n",
        "headline          748\n",
        "dtype: int64"
       ]
      }
     ],
     "prompt_number": 63
    },
    {
     "cell_type": "code",
     "collapsed": false,
     "input": [
      "culled['uplifting'] = 0\n",
      "culled.to_csv('2010_ny_1000_culled.csv')"
     ],
     "language": "python",
     "metadata": {},
     "outputs": [],
     "prompt_number": 64
    },
    {
     "cell_type": "code",
     "collapsed": false,
     "input": [
      "\"{\\\"}\""
     ],
     "language": "python",
     "metadata": {},
     "outputs": [
      {
       "metadata": {},
       "output_type": "pyout",
       "prompt_number": 40,
       "text": [
        "'{\"}'"
       ]
      }
     ],
     "prompt_number": 40
    },
    {
     "cell_type": "code",
     "collapsed": false,
     "input": [],
     "language": "python",
     "metadata": {},
     "outputs": []
    }
   ],
   "metadata": {}
  }
 ]
}