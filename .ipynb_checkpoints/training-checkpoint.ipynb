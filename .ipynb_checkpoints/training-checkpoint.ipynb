{
 "metadata": {
  "name": ""
 },
 "nbformat": 3,
 "nbformat_minor": 0,
 "worksheets": [
  {
   "cells": [
    {
     "cell_type": "code",
     "collapsed": false,
     "input": [
      "from sklearn.feature_extraction.text import TfidfVectorizer\n",
      "from sklearn.ensemble import RandomForestClassifier\n",
      "from sklearn.cross_validation import cross_val_score\n",
      "from sklearn.naive_bayes import GaussianNB\n",
      "from sklearn.naive_bayes import MultinomialNB \n",
      "import pandas as pd\n",
      "import numpy as np\n"
     ],
     "language": "python",
     "metadata": {},
     "outputs": [],
     "prompt_number": 9
    },
    {
     "cell_type": "code",
     "collapsed": false,
     "input": [
      "articles = pd.read_csv('2010_ny_1000_culled.csv')\n",
      "articles.head()"
     ],
     "language": "python",
     "metadata": {},
     "outputs": [
      {
       "html": [
        "<div style=\"max-height:1000px;max-width:1500px;overflow:auto;\">\n",
        "<table border=\"1\" class=\"dataframe\">\n",
        "  <thead>\n",
        "    <tr style=\"text-align: right;\">\n",
        "      <th></th>\n",
        "      <th>Unnamed: 0</th>\n",
        "      <th>lead_paragraph</th>\n",
        "      <th>headline</th>\n",
        "      <th>uplifting</th>\n",
        "    </tr>\n",
        "  </thead>\n",
        "  <tbody>\n",
        "    <tr>\n",
        "      <th>0</th>\n",
        "      <td> 0</td>\n",
        "      <td> The Olympic snowboarding hopeful Kevin Pearce ...</td>\n",
        "      <td>          Pearce Is Critically Injured On Halfpipe</td>\n",
        "      <td> 0</td>\n",
        "    </tr>\n",
        "    <tr>\n",
        "      <th>1</th>\n",
        "      <td> 2</td>\n",
        "      <td> Hundreds of thousands of revelers welcomed the...</td>\n",
        "      <td> Celebrations in Times Square Despite Troubled ...</td>\n",
        "      <td> 1</td>\n",
        "    </tr>\n",
        "    <tr>\n",
        "      <th>2</th>\n",
        "      <td> 3</td>\n",
        "      <td> TELEVISION Television starts the new year by g...</td>\n",
        "      <td>              A Variety of Stories On Many Screens</td>\n",
        "      <td> 1</td>\n",
        "    </tr>\n",
        "    <tr>\n",
        "      <th>3</th>\n",
        "      <td> 5</td>\n",
        "      <td> &lt;!-- GITTIE  DEIN --&gt;DEIN--Gittie Pfeffer. Dea...</td>\n",
        "      <td>                Paid Notice: Deaths  DEIN, GITTIE </td>\n",
        "      <td> 0</td>\n",
        "    </tr>\n",
        "    <tr>\n",
        "      <th>4</th>\n",
        "      <td> 6</td>\n",
        "      <td> A forgotten Robert Frost manuscript recently t...</td>\n",
        "      <td>              Absent From School? Frost Kept Track</td>\n",
        "      <td> 1</td>\n",
        "    </tr>\n",
        "  </tbody>\n",
        "</table>\n",
        "<p>5 rows \u00d7 4 columns</p>\n",
        "</div>"
       ],
       "metadata": {},
       "output_type": "pyout",
       "prompt_number": 18,
       "text": [
        "   Unnamed: 0                                     lead_paragraph  \\\n",
        "0           0  The Olympic snowboarding hopeful Kevin Pearce ...   \n",
        "1           2  Hundreds of thousands of revelers welcomed the...   \n",
        "2           3  TELEVISION Television starts the new year by g...   \n",
        "3           5  <!-- GITTIE  DEIN -->DEIN--Gittie Pfeffer. Dea...   \n",
        "4           6  A forgotten Robert Frost manuscript recently t...   \n",
        "\n",
        "                                            headline  uplifting  \n",
        "0           Pearce Is Critically Injured On Halfpipe          0  \n",
        "1  Celebrations in Times Square Despite Troubled ...          1  \n",
        "2               A Variety of Stories On Many Screens          1  \n",
        "3                 Paid Notice: Deaths  DEIN, GITTIE           0  \n",
        "4               Absent From School? Frost Kept Track          1  \n",
        "\n",
        "[5 rows x 4 columns]"
       ]
      }
     ],
     "prompt_number": 18
    },
    {
     "cell_type": "code",
     "collapsed": false,
     "input": [
      "#MERGE COLUMNS\n"
     ],
     "language": "python",
     "metadata": {},
     "outputs": []
    },
    {
     "cell_type": "code",
     "collapsed": false,
     "input": [
      "#VECTORIZE\n",
      "vectorizer = TfidfVectorizer( stop_words='english')\n",
      "X_train = vectorizer.fit_transform(articles.lead_paragraph)\n"
     ],
     "language": "python",
     "metadata": {},
     "outputs": [],
     "prompt_number": 19
    },
    {
     "cell_type": "code",
     "collapsed": false,
     "input": [
      "#MODEL\n",
      "gnb = GaussianNB()\n"
     ],
     "language": "python",
     "metadata": {},
     "outputs": [],
     "prompt_number": 20
    },
    {
     "cell_type": "code",
     "collapsed": false,
     "input": [
      "#PREDICT\n",
      "gnb_trained = gnb.fit(X_train.toarray(), articles.uplifting)\n",
      "print cross_val_score(gnb_trained, X_train.toarray(), articles.uplifting)\n",
      "#y_pred = trained_model.predict(X_train.toarray())\n",
      "#print(\"Number of mislabeled points : %d\" % (articles.uplifting != y_pred).sum())\n",
      "#4 mislabeled\n"
     ],
     "language": "python",
     "metadata": {},
     "outputs": [
      {
       "output_type": "stream",
       "stream": "stdout",
       "text": [
        "[ 0.908       0.89558233  0.89156627]\n"
       ]
      }
     ],
     "prompt_number": 21
    },
    {
     "cell_type": "code",
     "collapsed": false,
     "input": [
      "s1 = pd.Series([\"a\",\"b\",\"c\",\"d\"])\n",
      "s2 = pd.Series([\"a\",\"b\",\"c\",\"d\"])"
     ],
     "language": "python",
     "metadata": {},
     "outputs": [],
     "prompt_number": 11
    },
    {
     "cell_type": "code",
     "collapsed": false,
     "input": [
      "s3 = pd.Series([])\n",
      "for i in range(len(s1)):\n",
      "    s3[i] = s1[i] + s2[i]\n",
      "s3"
     ],
     "language": "python",
     "metadata": {},
     "outputs": [
      {
       "metadata": {},
       "output_type": "pyout",
       "prompt_number": 17,
       "text": [
        "0    aa\n",
        "1    bb\n",
        "2    cc\n",
        "3    dd\n",
        "dtype: object"
       ]
      }
     ],
     "prompt_number": 17
    },
    {
     "cell_type": "code",
     "collapsed": false,
     "input": [
      "\"cat\" + \"dog\""
     ],
     "language": "python",
     "metadata": {},
     "outputs": [
      {
       "metadata": {},
       "output_type": "pyout",
       "prompt_number": 16,
       "text": [
        "'catdog'"
       ]
      }
     ],
     "prompt_number": 16
    },
    {
     "cell_type": "code",
     "collapsed": false,
     "input": [],
     "language": "python",
     "metadata": {},
     "outputs": []
    }
   ],
   "metadata": {}
  }
 ]
}