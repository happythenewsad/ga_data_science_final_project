{
 "metadata": {
  "name": ""
 },
 "nbformat": 3,
 "nbformat_minor": 0,
 "worksheets": [
  {
   "cells": [
    {
     "cell_type": "code",
     "collapsed": false,
     "input": [
      "import pandas as pd\n",
      "articles = pd.read_csv('2010_ny_1000_clean.csv')\n",
      "articles.count()"
     ],
     "language": "python",
     "metadata": {},
     "outputs": [
      {
       "metadata": {},
       "output_type": "pyout",
       "prompt_number": 1,
       "text": [
        "web_url             1000\n",
        "snippet              996\n",
        "lead_paragraph       987\n",
        "abstract             523\n",
        "print_page           728\n",
        "blog                1000\n",
        "source               957\n",
        "multimedia          1000\n",
        "headline            1000\n",
        "keywords            1000\n",
        "pub_date            1000\n",
        "document_type       1000\n",
        "news_desk            838\n",
        "section_name         945\n",
        "subsection_name        2\n",
        "byline               651\n",
        "type_of_material     955\n",
        "_id                 1000\n",
        "word_count           997\n",
        "dtype: int64"
       ]
      }
     ],
     "prompt_number": 1
    },
    {
     "cell_type": "code",
     "collapsed": false,
     "input": [
      "deduped = articles.drop_duplicates(cols='headline')"
     ],
     "language": "python",
     "metadata": {},
     "outputs": [],
     "prompt_number": 26
    },
    {
     "cell_type": "code",
     "collapsed": false,
     "input": [
      "deduped.count() #167 dupes!"
     ],
     "language": "python",
     "metadata": {},
     "outputs": [
      {
       "metadata": {},
       "output_type": "pyout",
       "prompt_number": 27,
       "text": [
        "web_url             833\n",
        "snippet             829\n",
        "lead_paragraph      827\n",
        "abstract            461\n",
        "print_page          591\n",
        "blog                833\n",
        "source              790\n",
        "multimedia          833\n",
        "headline            833\n",
        "keywords            833\n",
        "pub_date            833\n",
        "document_type       833\n",
        "news_desk           680\n",
        "section_name        779\n",
        "subsection_name       2\n",
        "byline              564\n",
        "type_of_material    790\n",
        "_id                 833\n",
        "word_count          830\n",
        "dtype: int64"
       ]
      }
     ],
     "prompt_number": 27
    },
    {
     "cell_type": "code",
     "collapsed": false,
     "input": [
      "text_columns = deduped[['lead_paragraph','headline']]\n",
      "text_columns = text_columns.dropna()\n",
      "print(text_columns.count()) #6 NA's\n",
      "\n",
      "\n",
      "s = text_columns['headline']\n",
      "s.head()\n"
     ],
     "language": "python",
     "metadata": {},
     "outputs": [
      {
       "output_type": "stream",
       "stream": "stdout",
       "text": [
        "lead_paragraph    827\n",
        "headline          827\n",
        "dtype: int64\n"
       ]
      },
      {
       "metadata": {},
       "output_type": "pyout",
       "prompt_number": 43,
       "text": [
        "0             Pearce Is Critically Injured On Halfpipe\n",
        "1                                      What's On Today\n",
        "2    Celebrations in Times Square Despite Troubled ...\n",
        "3                 A Variety of Stories On Many Screens\n",
        "5                   Paid Notice: Deaths  DEIN, GITTIE \n",
        "Name: headline, dtype: object"
       ]
      }
     ],
     "prompt_number": 43
    },
    {
     "cell_type": "code",
     "collapsed": false,
     "input": [
      "ctr = 0\n",
      "for counter in range(len(s)):\n",
      "    try:\n",
      "        if len(s[counter]) < 20:\n",
      "            ctr += 1\n",
      "            headline = None\n",
      "    except Exception, e:\n",
      "        1\n",
      "\n",
      "print \"you nulled this many short headlines:\"\n",
      "print ctr\n",
      "s.count()"
     ],
     "language": "python",
     "metadata": {},
     "outputs": [
      {
       "output_type": "stream",
       "stream": "stdout",
       "text": [
        "you removed this many short headlines:\n",
        "79\n"
       ]
      },
      {
       "metadata": {},
       "output_type": "pyout",
       "prompt_number": 48,
       "text": [
        "827"
       ]
      }
     ],
     "prompt_number": 48
    },
    {
     "cell_type": "code",
     "collapsed": false,
     "input": [
      "s[:12]"
     ],
     "language": "python",
     "metadata": {},
     "outputs": [
      {
       "metadata": {},
       "output_type": "pyout",
       "prompt_number": 47,
       "text": [
        "0              Pearce Is Critically Injured On Halfpipe\n",
        "1                                       What's On Today\n",
        "2     Celebrations in Times Square Despite Troubled ...\n",
        "3                  A Variety of Stories On Many Screens\n",
        "5                    Paid Notice: Deaths  DEIN, GITTIE \n",
        "6                  Absent From School? Frost Kept Track\n",
        "7                                           Spare Times\n",
        "8             Experimental Artists, Introspective Plays\n",
        "9                   A $10.6. Billion Year For Hollywood\n",
        "13                              The U.N. in Afghanistan\n",
        "14             China: Xinjiang Enacts a Curb On Dissent\n",
        "15    Once, Twice, Three Times a Mayor. I Love You, ...\n",
        "Name: headline, dtype: object"
       ]
      }
     ],
     "prompt_number": 47
    },
    {
     "cell_type": "code",
     "collapsed": false,
     "input": [
      "text_columns['headline'] = s"
     ],
     "language": "python",
     "metadata": {},
     "outputs": [],
     "prompt_number": 34
    },
    {
     "cell_type": "code",
     "collapsed": false,
     "input": [
      "text_columns.head(20)"
     ],
     "language": "python",
     "metadata": {},
     "outputs": [
      {
       "html": [
        "<div style=\"max-height:1000px;max-width:1500px;overflow:auto;\">\n",
        "<table border=\"1\" class=\"dataframe\">\n",
        "  <thead>\n",
        "    <tr style=\"text-align: right;\">\n",
        "      <th></th>\n",
        "      <th>lead_paragraph</th>\n",
        "      <th>headline</th>\n",
        "    </tr>\n",
        "  </thead>\n",
        "  <tbody>\n",
        "    <tr>\n",
        "      <th>0 </th>\n",
        "      <td> The Olympic snowboarding hopeful Kevin Pearce ...</td>\n",
        "      <td>          Pearce Is Critically Injured On Halfpipe</td>\n",
        "    </tr>\n",
        "    <tr>\n",
        "      <th>1 </th>\n",
        "      <td> 2:30 P.M. (PBS) FROM VIENNA: NEW YEAR'S CELEBR...</td>\n",
        "      <td>                                   What's On Today</td>\n",
        "    </tr>\n",
        "    <tr>\n",
        "      <th>2 </th>\n",
        "      <td> Hundreds of thousands of revelers welcomed the...</td>\n",
        "      <td> Celebrations in Times Square Despite Troubled ...</td>\n",
        "    </tr>\n",
        "    <tr>\n",
        "      <th>3 </th>\n",
        "      <td> TELEVISION Television starts the new year by g...</td>\n",
        "      <td>              A Variety of Stories On Many Screens</td>\n",
        "    </tr>\n",
        "    <tr>\n",
        "      <th>5 </th>\n",
        "      <td> &lt;!-- GITTIE  DEIN --&gt;DEIN--Gittie Pfeffer. Dea...</td>\n",
        "      <td>                Paid Notice: Deaths  DEIN, GITTIE </td>\n",
        "    </tr>\n",
        "    <tr>\n",
        "      <th>6 </th>\n",
        "      <td> A forgotten Robert Frost manuscript recently t...</td>\n",
        "      <td>              Absent From School? Frost Kept Track</td>\n",
        "    </tr>\n",
        "    <tr>\n",
        "      <th>7 </th>\n",
        "      <td> FOR CHILDREN BROOKLYN MUSEUM TARGET FIRST SATU...</td>\n",
        "      <td>                                       Spare Times</td>\n",
        "    </tr>\n",
        "    <tr>\n",
        "      <th>8 </th>\n",
        "      <td> A look at what critics and arts reporters for ...</td>\n",
        "      <td>         Experimental Artists, Introspective Plays</td>\n",
        "    </tr>\n",
        "    <tr>\n",
        "      <th>9 </th>\n",
        "      <td> The movie box office for 2009 reached $10.6 bi...</td>\n",
        "      <td>               A $10.6. Billion Year For Hollywood</td>\n",
        "    </tr>\n",
        "    <tr>\n",
        "      <th>13</th>\n",
        "      <td> Americans don't hear a lot about the top Unite...</td>\n",
        "      <td>                           The U.N. in Afghanistan</td>\n",
        "    </tr>\n",
        "    <tr>\n",
        "      <th>14</th>\n",
        "      <td> The government of Xinjiang, the restive, predo...</td>\n",
        "      <td>          China: Xinjiang Enacts a Curb On Dissent</td>\n",
        "    </tr>\n",
        "    <tr>\n",
        "      <th>15</th>\n",
        "      <td> Thank you very much and Happy New Year. Muchas...</td>\n",
        "      <td> Once, Twice, Three Times a Mayor. I Love You, ...</td>\n",
        "    </tr>\n",
        "    <tr>\n",
        "      <th>16</th>\n",
        "      <td> &lt;!-- IAN  BERG --&gt;BERG--Ian J., 68, a managing...</td>\n",
        "      <td>                   Paid Notice: Deaths  BERG, IAN </td>\n",
        "    </tr>\n",
        "    <tr>\n",
        "      <th>17</th>\n",
        "      <td> &lt;!-- ALAN  COHEN --&gt;COHEN--Alan. The staff and...</td>\n",
        "      <td>                 Paid Notice: Deaths  COHEN, ALAN </td>\n",
        "    </tr>\n",
        "    <tr>\n",
        "      <th>18</th>\n",
        "      <td> Time gets special consideration today. We swee...</td>\n",
        "      <td>                    Time, the Infinite Storyteller</td>\n",
        "    </tr>\n",
        "    <tr>\n",
        "      <th>19</th>\n",
        "      <td> When Tim Tebow takes the field for fifth-ranke...</td>\n",
        "      <td> After Being a Florida Icon, Tebow Becomes an N...</td>\n",
        "    </tr>\n",
        "    <tr>\n",
        "      <th>20</th>\n",
        "      <td> DANCE Full reviews of recent performances: nyt...</td>\n",
        "      <td>                                      The Listings</td>\n",
        "    </tr>\n",
        "    <tr>\n",
        "      <th>23</th>\n",
        "      <td> An obituary last Friday about the sportscaster...</td>\n",
        "      <td>                                       Corrections</td>\n",
        "    </tr>\n",
        "    <tr>\n",
        "      <th>24</th>\n",
        "      <td> -- Here's what you do: Fly into Logan Internat...</td>\n",
        "      <td>      In Boston, Where Change Is in the Winter Air</td>\n",
        "    </tr>\n",
        "    <tr>\n",
        "      <th>25</th>\n",
        "      <td>                                       Video Games</td>\n",
        "      <td>           Around the City, A Wide Range of Sounds</td>\n",
        "    </tr>\n",
        "  </tbody>\n",
        "</table>\n",
        "<p>20 rows \u00d7 2 columns</p>\n",
        "</div>"
       ],
       "metadata": {},
       "output_type": "pyout",
       "prompt_number": 37,
       "text": [
        "                                       lead_paragraph  \\\n",
        "0   The Olympic snowboarding hopeful Kevin Pearce ...   \n",
        "1   2:30 P.M. (PBS) FROM VIENNA: NEW YEAR'S CELEBR...   \n",
        "2   Hundreds of thousands of revelers welcomed the...   \n",
        "3   TELEVISION Television starts the new year by g...   \n",
        "5   <!-- GITTIE  DEIN -->DEIN--Gittie Pfeffer. Dea...   \n",
        "6   A forgotten Robert Frost manuscript recently t...   \n",
        "7   FOR CHILDREN BROOKLYN MUSEUM TARGET FIRST SATU...   \n",
        "8   A look at what critics and arts reporters for ...   \n",
        "9   The movie box office for 2009 reached $10.6 bi...   \n",
        "13  Americans don't hear a lot about the top Unite...   \n",
        "14  The government of Xinjiang, the restive, predo...   \n",
        "15  Thank you very much and Happy New Year. Muchas...   \n",
        "16  <!-- IAN  BERG -->BERG--Ian J., 68, a managing...   \n",
        "17  <!-- ALAN  COHEN -->COHEN--Alan. The staff and...   \n",
        "18  Time gets special consideration today. We swee...   \n",
        "19  When Tim Tebow takes the field for fifth-ranke...   \n",
        "20  DANCE Full reviews of recent performances: nyt...   \n",
        "23  An obituary last Friday about the sportscaster...   \n",
        "24  -- Here's what you do: Fly into Logan Internat...   \n",
        "25                                        Video Games   \n",
        "\n",
        "                                             headline  \n",
        "0            Pearce Is Critically Injured On Halfpipe  \n",
        "1                                     What's On Today  \n",
        "2   Celebrations in Times Square Despite Troubled ...  \n",
        "3                A Variety of Stories On Many Screens  \n",
        "5                  Paid Notice: Deaths  DEIN, GITTIE   \n",
        "6                Absent From School? Frost Kept Track  \n",
        "7                                         Spare Times  \n",
        "8           Experimental Artists, Introspective Plays  \n",
        "9                 A $10.6. Billion Year For Hollywood  \n",
        "13                            The U.N. in Afghanistan  \n",
        "14           China: Xinjiang Enacts a Curb On Dissent  \n",
        "15  Once, Twice, Three Times a Mayor. I Love You, ...  \n",
        "16                    Paid Notice: Deaths  BERG, IAN   \n",
        "17                  Paid Notice: Deaths  COHEN, ALAN   \n",
        "18                     Time, the Infinite Storyteller  \n",
        "19  After Being a Florida Icon, Tebow Becomes an N...  \n",
        "20                                       The Listings  \n",
        "23                                        Corrections  \n",
        "24       In Boston, Where Change Is in the Winter Air  \n",
        "25            Around the City, A Wide Range of Sounds  \n",
        "\n",
        "[20 rows x 2 columns]"
       ]
      }
     ],
     "prompt_number": 37
    },
    {
     "cell_type": "code",
     "collapsed": false,
     "input": [
      "culled = articles.dropna()\n",
      "culled.describe()"
     ],
     "language": "python",
     "metadata": {},
     "outputs": [
      {
       "html": [
        "<div style=\"max-height:1000px;max-width:1500px;overflow:auto;\">\n",
        "<table border=\"1\" class=\"dataframe\">\n",
        "  <thead>\n",
        "    <tr style=\"text-align: right;\">\n",
        "      <th></th>\n",
        "      <th>lead_paragraph</th>\n",
        "      <th>headline</th>\n",
        "    </tr>\n",
        "  </thead>\n",
        "  <tbody>\n",
        "    <tr>\n",
        "      <th>count</th>\n",
        "      <td>                                               518</td>\n",
        "      <td>                                     518</td>\n",
        "    </tr>\n",
        "    <tr>\n",
        "      <th>unique</th>\n",
        "      <td>                                               482</td>\n",
        "      <td>                                     459</td>\n",
        "    </tr>\n",
        "    <tr>\n",
        "      <th>top</th>\n",
        "      <td> The major professional golf circuits each ende...</td>\n",
        "      <td> Around the City, A Wide Range of Sounds</td>\n",
        "    </tr>\n",
        "    <tr>\n",
        "      <th>freq</th>\n",
        "      <td>                                                 3</td>\n",
        "      <td>                                       5</td>\n",
        "    </tr>\n",
        "  </tbody>\n",
        "</table>\n",
        "<p>4 rows \u00d7 2 columns</p>\n",
        "</div>"
       ],
       "metadata": {},
       "output_type": "pyout",
       "prompt_number": 130,
       "text": [
        "                                           lead_paragraph  \\\n",
        "count                                                 518   \n",
        "unique                                                482   \n",
        "top     The major professional golf circuits each ende...   \n",
        "freq                                                    3   \n",
        "\n",
        "                                       headline  \n",
        "count                                       518  \n",
        "unique                                      459  \n",
        "top     Around the City, A Wide Range of Sounds  \n",
        "freq                                          5  \n",
        "\n",
        "[4 rows x 2 columns]"
       ]
      }
     ],
     "prompt_number": 130
    },
    {
     "cell_type": "code",
     "collapsed": false,
     "input": [
      "culled['uplifting'] = 0\n",
      "culled.to_csv('2010_ny_600_culled.csv')"
     ],
     "language": "python",
     "metadata": {},
     "outputs": [],
     "prompt_number": 131
    },
    {
     "cell_type": "code",
     "collapsed": false,
     "input": [
      "articles.describe()}"
     ],
     "language": "python",
     "metadata": {},
     "outputs": [
      {
       "html": [
        "<div style=\"max-height:1000px;max-width:1500px;overflow:auto;\">\n",
        "<table border=\"1\" class=\"dataframe\">\n",
        "  <thead>\n",
        "    <tr style=\"text-align: right;\">\n",
        "      <th></th>\n",
        "      <th>word_count</th>\n",
        "    </tr>\n",
        "  </thead>\n",
        "  <tbody>\n",
        "    <tr>\n",
        "      <th>count</th>\n",
        "      <td>  498.000000</td>\n",
        "    </tr>\n",
        "    <tr>\n",
        "      <th>mean</th>\n",
        "      <td>  508.987952</td>\n",
        "    </tr>\n",
        "    <tr>\n",
        "      <th>std</th>\n",
        "      <td>  519.373667</td>\n",
        "    </tr>\n",
        "    <tr>\n",
        "      <th>min</th>\n",
        "      <td>    0.000000</td>\n",
        "    </tr>\n",
        "    <tr>\n",
        "      <th>25%</th>\n",
        "      <td>  118.000000</td>\n",
        "    </tr>\n",
        "    <tr>\n",
        "      <th>50%</th>\n",
        "      <td>  342.000000</td>\n",
        "    </tr>\n",
        "    <tr>\n",
        "      <th>75%</th>\n",
        "      <td>  796.750000</td>\n",
        "    </tr>\n",
        "    <tr>\n",
        "      <th>max</th>\n",
        "      <td> 4777.000000</td>\n",
        "    </tr>\n",
        "  </tbody>\n",
        "</table>\n",
        "<p>8 rows \u00d7 1 columns</p>\n",
        "</div>"
       ],
       "metadata": {},
       "output_type": "pyout",
       "prompt_number": 72,
       "text": [
        "        word_count\n",
        "count   498.000000\n",
        "mean    508.987952\n",
        "std     519.373667\n",
        "min       0.000000\n",
        "25%     118.000000\n",
        "50%     342.000000\n",
        "75%     796.750000\n",
        "max    4777.000000\n",
        "\n",
        "[8 rows x 1 columns]"
       ]
      }
     ],
     "prompt_number": 72
    },
    {
     "cell_type": "code",
     "collapsed": false,
     "input": [
      "#articles[['snippet','lead_paragraph','abstract','headline','pub_date','word_count']]\n",
      "# short_headlines = articles['headline'].str.len() > 2\n",
      "# short_headlines['headline']"
     ],
     "language": "python",
     "metadata": {},
     "outputs": [
      {
       "metadata": {},
       "output_type": "pyout",
       "prompt_number": 27,
       "text": [
        "0     False\n",
        "1     False\n",
        "2     False\n",
        "3     False\n",
        "4     False\n",
        "5     False\n",
        "6     False\n",
        "7     False\n",
        "8     False\n",
        "9     False\n",
        "10    False\n",
        "11    False\n",
        "12    False\n",
        "13    False\n",
        "14    False\n",
        "...\n",
        "485    False\n",
        "486    False\n",
        "487    False\n",
        "488    False\n",
        "489    False\n",
        "490    False\n",
        "491    False\n",
        "492    False\n",
        "493    False\n",
        "494    False\n",
        "495    False\n",
        "496    False\n",
        "497    False\n",
        "498    False\n",
        "499    False\n",
        "Name: headline, Length: 500, dtype: bool"
       ]
      }
     ],
     "prompt_number": 27
    },
    {
     "cell_type": "code",
     "collapsed": false,
     "input": [
      "\"{\\\"}\""
     ],
     "language": "python",
     "metadata": {},
     "outputs": [
      {
       "metadata": {},
       "output_type": "pyout",
       "prompt_number": 40,
       "text": [
        "'{\"}'"
       ]
      }
     ],
     "prompt_number": 40
    },
    {
     "cell_type": "code",
     "collapsed": false,
     "input": [],
     "language": "python",
     "metadata": {},
     "outputs": []
    }
   ],
   "metadata": {}
  }
 ]
}